{
  "nbformat": 4,
  "nbformat_minor": 0,
  "metadata": {
    "colab": {
      "name": "tarea 1 ejercicio 3 y 4.ipynb",
      "provenance": [],
      "authorship_tag": "ABX9TyPEMM4mLbZJHkUFBCc+nMkJ",
      "include_colab_link": true
    },
    "kernelspec": {
      "name": "python3",
      "display_name": "Python 3"
    }
  },
  "cells": [
    {
      "cell_type": "markdown",
      "metadata": {
        "id": "view-in-github",
        "colab_type": "text"
      },
      "source": [
        "<a href=\"https://colab.research.google.com/github/janorena/modelado-y-simulacion/blob/master/tarea_1_ejercicio_3_y_4.ipynb\" target=\"_parent\"><img src=\"https://colab.research.google.com/assets/colab-badge.svg\" alt=\"Open In Colab\"/></a>"
      ]
    },
    {
      "cell_type": "markdown",
      "metadata": {
        "id": "bz9Ufi8o25eR",
        "colab_type": "text"
      },
      "source": [
        "#ejercicio 3"
      ]
    },
    {
      "cell_type": "code",
      "metadata": {
        "id": "Fdr7XqQZn4_o",
        "colab_type": "code",
        "colab": {
          "base_uri": "https://localhost:8080/",
          "height": 85
        },
        "outputId": "a081fe97-0e22-41a1-fae4-1971e0c470cf"
      },
      "source": [
        "#Decimal a binario\n",
        "dec = 0\n",
        "numero_binario = 0\n",
        "numero_decimal = 0\n",
        "print(\"Dame un número entero para tranformar a binario:\")\n",
        "dec = int(input())\n",
        "def bin2dec(binario):\n",
        "    dec = int(str(binario), 2)\n",
        "    return dec\n",
        "\n",
        "numero_decimal = dec2bin(dec)\n",
        "numero_binario = bin2dec(numero_decimal)\n",
        "print(\"Numero binario {}\" .format(numero_binario))\n",
        "print(\"Numero decimal {}\" .format(numero_decimal))"
      ],
      "execution_count": 42,
      "outputs": [
        {
          "output_type": "stream",
          "text": [
            "Dame un número entero para tranformar a binario:\n",
            "25\n",
            "Numero binario 25\n",
            "Numero decimal 11001\n"
          ],
          "name": "stdout"
        }
      ]
    },
    {
      "cell_type": "code",
      "metadata": {
        "id": "dPLCNFo5ptRB",
        "colab_type": "code",
        "colab": {
          "base_uri": "https://localhost:8080/",
          "height": 85
        },
        "outputId": "5d38e98d-40fe-41c4-9e89-c3991eb9e9c0"
      },
      "source": [
        "#Binario a decimal\n",
        "print(\"Dame un número binario para tranformar a entero:\")\n",
        "bina = int(input())\n",
        "def dec2bin(decimal):\n",
        "    bina = \"\"\n",
        "    bin(dec)\n",
        "    bina = int(bin(decimal)[2:])\n",
        "    return bina\n",
        "numero_decimal = dec2bin(numero_binario)\n",
        "numero_binario = bin2dec(bina)\n",
        "print(\"Numero decimal {}\" .format(bina))\n",
        "print(\"Numero binario {}\" .format(numero_binario))\n"
      ],
      "execution_count": 51,
      "outputs": [
        {
          "output_type": "stream",
          "text": [
            "Dame un número binario para tranformar a entero:\n",
            "11001\n",
            "Numero decimal 11001\n",
            "Numero binario 25\n"
          ],
          "name": "stdout"
        }
      ]
    },
    {
      "cell_type": "markdown",
      "metadata": {
        "id": "yYy16bWb2_7S",
        "colab_type": "text"
      },
      "source": [
        "#ejercicio 4\n"
      ]
    },
    {
      "cell_type": "code",
      "metadata": {
        "id": "vCyG9fFZ24gU",
        "colab_type": "code",
        "colab": {
          "base_uri": "https://localhost:8080/",
          "height": 71
        },
        "outputId": "60ccf7e6-ea9c-4c12-b4a7-eefd393abdfb"
      },
      "source": [
        "def count_words(text):\n",
        "    text = text.split()\n",
        "    words = {}\n",
        "    for i in text:\n",
        "        if i in words:\n",
        "            words[i] += 1\n",
        "        else:\n",
        "            words[i] = 1\n",
        "    return words\n",
        "\n",
        "def most_repeated(words):\n",
        "    max_word = ''\n",
        "    max_freq = 0\n",
        "    for word, freq in words.items():\n",
        "        if freq > max_freq:\n",
        "            max_word = word\n",
        "            max_freq = freq\n",
        "    return max_word, max_freq\n",
        "\n",
        "text = 'erre con erre guitarra erre con erre carril rápido ruedan los carros rápido el ferrocarril'\n",
        "print(count_words(text))\n",
        "print(most_repeated(count_words(text)))"
      ],
      "execution_count": 54,
      "outputs": [
        {
          "output_type": "stream",
          "text": [
            "{'erre': 4, 'con': 2, 'guitarra': 1, 'carril': 1, 'rápido': 2, 'ruedan': 1, 'los': 1, 'carros': 1, 'el': 1, 'ferrocarril': 1}\n",
            "('erre', 4)\n"
          ],
          "name": "stdout"
        }
      ]
    }
  ]
}