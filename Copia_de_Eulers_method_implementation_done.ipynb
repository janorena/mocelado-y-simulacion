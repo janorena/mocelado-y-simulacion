{
  "nbformat": 4,
  "nbformat_minor": 0,
  "metadata": {
    "kernelspec": {
      "display_name": "Python 3",
      "language": "python",
      "name": "python3"
    },
    "language_info": {
      "codemirror_mode": {
        "name": "ipython",
        "version": 3
      },
      "file_extension": ".py",
      "mimetype": "text/x-python",
      "name": "python",
      "nbconvert_exporter": "python",
      "pygments_lexer": "ipython3",
      "version": "3.7.3"
    },
    "colab": {
      "name": "Copia de Eulers_method_-_implementation-_done.ipynb",
      "provenance": [],
      "include_colab_link": true
    }
  },
  "cells": [
    {
      "cell_type": "markdown",
      "metadata": {
        "id": "view-in-github",
        "colab_type": "text"
      },
      "source": [
        "<a href=\"https://colab.research.google.com/github/janorena/modelado-y-simulacion/blob/master/Copia_de_Eulers_method_implementation_done.ipynb\" target=\"_parent\"><img src=\"https://colab.research.google.com/assets/colab-badge.svg\" alt=\"Open In Colab\"/></a>"
      ]
    },
    {
      "cell_type": "markdown",
      "metadata": {
        "id": "7Iz-cLmL5KRf",
        "colab_type": "text"
      },
      "source": [
        "\n",
        "# Simple implementation of Euler's method\n",
        "___\n",
        "\n"
      ]
    },
    {
      "cell_type": "markdown",
      "metadata": {
        "id": "8Tzw9rck5KRg",
        "colab_type": "text"
      },
      "source": [
        "## Introduction\n",
        "\n",
        "In all kinds of natural sciences, we encounter differential equations. These equations can be quite complicated to solve analytically, and most times there does not exist an analytical solution. Nonetheless, we still need solve these kinds of equations in order for them to better our understanding of whichever underlying physical system we are working with.\n",
        "\n",
        "For many students, understanding how to solve ordinary differential equations, ODEs for short, can be a time consuming and frustrating process. The purpose of this notebook is to simply demonstrate __how__ an ODE can be solved. Will not focus on the theory behind Euler's method, we will solely focus on the __implementation__ of our ODE solver. Ideally, the reader should also understand the theory and possible pitfalls of using Euler's method, thus we strongly recommend also reading our other module on *[Euler's method](https://github.com/MarioBolanos/Metodo-de-Euler/blob/master/Eulers_method_Colab.ipynb)*  \n",
        "\n",
        " The most crude models for modeling bacterial growth is an excellent choice for demonstrating Euler's method, as the differential equation governing this growth is quite simple."
      ]
    },
    {
      "cell_type": "markdown",
      "metadata": {
        "id": "nSWO1pIt5KRg",
        "colab_type": "text"
      },
      "source": [
        "## Theory\n",
        "\n",
        "### Population growth\n",
        "Before we start programming, we will give a short introduction to bacterial growth. Bacteria reproduce by binary fission. This is a process where a single bacterial cell splits in two, creating two bacterial cells. The two new bacterial cells, can again split into two, thus creating four bacterial cells. In reality, a single bacterial cell can only split in two a certain amount of times, but in our project we model our growth rate as if this was not the case.\n",
        "\n",
        "We can then write our differential equation as\n",
        "\n",
        "\\begin{equation}\n",
        "\\frac{dy}{dt} = ky(t),\\tag{1}\n",
        "\\end{equation}\n",
        "\n",
        "where $y(t)$ is the population $y$ at time $t$, and $k$ is some constant of proportionality. If we use days as time unit, and assume that the population size at $ t= 1$ is double the population size at the $t=0$\n",
        "\n",
        "\\begin{equation}\n",
        "y(1) = 2y(0) \\tag{2},\n",
        "\\end{equation}\n",
        "\n",
        "we can solve the differential equation analytically. Combining equations $(1)$ and $(2)$, we get\n",
        "\n",
        "\\begin{equation}\n",
        "y(t) = \\mathrm{e}^{kt} = \\mathrm{e}^{\\mathrm{ln}(2)t} = 2^{t}. \\tag{3}\n",
        "\\end{equation}\n",
        "\n",
        "Equation $(3)$ fully describes the population size at time $t$.\n",
        "\n",
        "### Euler's method\n",
        "This paragraph will try to convey the bare minimum of theory regarding Euler's method. However, these paragraphs should be sufficient for the implementation.\n",
        "\n",
        "First of all, when solving differential equations numerically, we need to __discretize__ our time variable $t$. $t$ is no longer a continuous variable, instead we write\n",
        "\n",
        "$$\n",
        "t_n = t_0 + nh, \\quad \\mathrm{with} \\quad n = 0, 1, 2,..., N,\n",
        "$$\n",
        "\n",
        "where $t_0$ is the time value where we know our initial population size, and $h$ is the size between adjacent discrete time values. The relation between $N$ and $h$ is given by\n",
        "\n",
        "$$\n",
        "h = \\frac{t_N - t_0}{N},\n",
        "$$\n",
        "\n",
        "where $N$ is the number of discrete time points we have in our simulation, while $t_N$ and denote the largest time value we have in our simulation.\n",
        "\n",
        "In general, our numerical approximation will be better if we choose a small $h$. Note as the size of $h$ decreases, the number of discrete time values between $t_0$ and $t_N$ increases. We pay for the increased level precision by increasing the number of calculations needed, thus increasing the runtime of our program.\n",
        "\n",
        "A first order differential equation with no explicit time dependence can be written on the the most general form\n",
        "\n",
        "\\begin{equation}\n",
        "\\frac{dy}{dt} = g(y),\n",
        "\\tag{4}\n",
        "\\end{equation}\n",
        "\n",
        "where $g(y)$ is the equation governing the rate of change of our function $y(t)$. In our case, $g(y) = ky$.\n",
        "\n",
        "If we know the population size at $t_0$ and denote this value as $y_0$, we can use Euler's method to find an approximation of the population size at $t_1 = t_0 +h$. The population size at $t_1$ is denoted as $y_1$. This approximation can be calculated by the formula\n",
        "\n",
        "$$\n",
        "y_1 = y_0 + hg(y_0).\n",
        "$$\n",
        "\n",
        "Now, to find the population size $y_2$ at $t_2 = t_1 + h = t_0 + 2h$, we use the same formula, but with $y_1$ instead of $y_0$\n",
        "\n",
        "$$\n",
        "y_2 = y_1 + h g(y_1).\n",
        "$$\n",
        "\n",
        "The most general form of Euler's method is written as\n",
        "\n",
        "$$\n",
        "y_{n+1} = y_n + h g(y_n),\n",
        "\\tag{5}\n",
        "$$\n",
        "where we have the initial condition that\n",
        "\n",
        "$$\n",
        "y(t_0) = y_0.\n",
        "$$\n",
        "\n",
        "Now we can implement Euler's method in Python, and compare our numerical results to the analytical solution given in equation $(3)$.\n",
        "\n",
        "## Implementation"
      ]
    },
    {
      "cell_type": "code",
      "metadata": {
        "id": "Fe7nSseh5KRh",
        "colab_type": "code",
        "colab": {}
      },
      "source": [
        "# Importing the necessary libraries\n",
        "import numpy as np # NumPy is used to generate arrays and tp perform some mathematical operations\n",
        "import matplotlib.pyplot as plt # Used for plotting results\n",
        "\n",
        "# Updating figure params\n",
        "# Note, this is not important for any of the code, this is just to set the appropiate figure and text sizes\n",
        "newparams = {'figure.figsize': (15, 7), 'axes.grid': False,\n",
        "             'lines.markersize': 10, 'lines.linewidth': 2,\n",
        "             'font.size': 15, 'mathtext.fontset': 'stix',\n",
        "             'font.family': 'STIXGeneral', 'figure.dpi': 200}\n",
        "plt.rcParams.update(newparams)"
      ],
      "execution_count": null,
      "outputs": []
    },
    {
      "cell_type": "code",
      "metadata": {
        "id": "wa45FOJ45KRk",
        "colab_type": "code",
        "colab": {}
      },
      "source": [
        "def step_Euler(y, h, f):\n",
        "    \"\"\"This Python function performs a single step of Euler's method.\n",
        "    \n",
        "    Parameters:\n",
        "            y: Numerical approximation of y at time t\n",
        "            h: Step size\n",
        "            f: RHS of our ODE (RHS = Right hand side). Can be any function that only has y as a variable.\n",
        "        Returns:\n",
        "            next_y: Numerical approximation of y at time t+h\n",
        "    \"\"\"\n",
        "    next_y = y + h * f(y)\n",
        "    return next_y\n",
        "\n",
        "\n",
        "def full_Euler(h, f, y_0 = 1, start_t = 0, end_t = 1):\n",
        "    \"\"\"  A full numerical aproximation of an ODE in a set time interval. Performs consecutive Euler steps\n",
        "    with step size h from start time until the end time. Also takes into account the initial values of the ODE\n",
        "    \n",
        "    Parameters:\n",
        "            h: Step size\n",
        "            f: RHS of our ODE\n",
        "            y_0 : Initial condition for y at t = start_t\n",
        "            start_t : The time at the initial condtion, t_0\n",
        "            end_t : The end of the interval where the Euler method is perfomed, t_N\n",
        "        Returns:\n",
        "            y_list: Numerical approximation of y at times t_list\n",
        "            t_list: Evenly spaced discrete list of time with spacing h. \n",
        "                    Starting time = start_t, and end time = end_t \n",
        "    \"\"\"\n",
        "    # Number of discretisation steps\n",
        "    N = int((end_t - start_t) / h)\n",
        "    # Following the notation in the theory, we have N+1 discrete time values linearly spaced\n",
        "    t_list = np.linspace(start_t, end_t, N + 1)\n",
        "    \n",
        "    # Initialise array to store y-values\n",
        "    y_list = np.zeros(N + 1)\n",
        "    # Assign initial condition to first element\n",
        "    y_list[0] = y_0\n",
        "    \n",
        "    # Assign the rest of the array using N Euler_steps\n",
        "    for i in range(0, N):\n",
        "        y_list[i + 1] = step_Euler(y_list[i], h, f)\n",
        "    # With N + 1 time values, we are only able to calculate N values of y. Thus we do not return the last element of\n",
        "    # our time list. We accomplish this by writing t_list[:-1]\n",
        "    return y_list, t_list "
      ],
      "execution_count": null,
      "outputs": []
    },
    {
      "cell_type": "markdown",
      "metadata": {
        "id": "zMYwmku05KRn",
        "colab_type": "text"
      },
      "source": [
        "Now that we have our functions defined, we can simulate the bacterial population. We only need to define our RHS (Right hand side) of our differential equation, which we in the theory part denoted as $g(y)$."
      ]
    },
    {
      "cell_type": "code",
      "metadata": {
        "id": "hLeWX3aE5KRn",
        "colab_type": "code",
        "colab": {
          "base_uri": "https://localhost:8080/",
          "height": 315
        },
        "outputId": "4a66df8d-800b-4f4a-fec9-18d535f149e0"
      },
      "source": [
        "def g(y):\n",
        "    \"\"\"Defines the right hand side of our differential equation. In our case of bacterial growth, g(y) = k*y\n",
        "    \n",
        "    Parameters:\n",
        "            y: Numerical approximation of y at time t\n",
        "        Returns:\n",
        "            growth_rate: Current population size multiplied with a constant of proportionality. In this case this is \n",
        "            equal to ln(2)\n",
        "    \"\"\"\n",
        "    growth_rate = np.log(2)*y\n",
        "    return growth_rate\n",
        "\n",
        "# Now we can find the the numerical results from Euler's method and compare them to the analytical solution\n",
        "\n",
        "# Input parameters\n",
        "y_0 = 1  # Initial population size, i.e. a single bacteria\n",
        "h = 0.01 # Step size\n",
        "t_0 = 0  # We define the time at our initial observation as 0\n",
        "t_N = 10 # 10 days after our initial observation of a single bacteria\n",
        "\n",
        "\n",
        "# Calculating results from Euler and plotting them\n",
        "y_list, t_list = full_Euler(h, g, y_0, t_0, t_N)\n",
        "plt.plot(t_list, y_list, label=\"Numerical\", linewidth=1)\n",
        "\n",
        "# Plotting the analytical solution derived earlier\n",
        "plt.plot(t_list,np.power(2, t_list), label=\"Analytical\", linewidth=1)\n",
        "\n",
        "# Making the plot look nice\n",
        "plt.legend()\n",
        "plt.title(\"The population size of a bacterial colony as a function of time\")\n",
        "plt.xlabel(r'$t$ [days]')\n",
        "plt.ylabel(r'$y$ [# bacteria]')\n",
        "plt.show()\n",
        "\n",
        "# Let's see how far off our numerical approximation is after 5 days.\n",
        "\n",
        "last_analytical = np.power(2,t_list[-1]) # Extracting the last element of the analytical solution\n",
        "last_numerical = y_list[-1] # Extracting the last element of the numerical solution\n",
        "\n",
        "print(\"After 10 days, our numerical approximation of bacterias is off by: %.2f\" %(last_analytical - last_numerical))"
      ],
      "execution_count": null,
      "outputs": [
        {
          "output_type": "display_data",
          "data": {
            "image/png": "[encoded data removed]",
            "text/plain": [
              "<Figure size 432x288 with 1 Axes>"
            ]
          },
          "metadata": {
            "tags": [],
            "needs_background": "light"
          }
        },
        {
          "output_type": "stream",
          "text": [
            "After 10 days, our numerical approximation of bacterias is off by: 24.20\n"
          ],
          "name": "stdout"
        }
      ]
    },
    {
      "cell_type": "markdown",
      "metadata": {
        "id": "v2jF5QEM5KRs",
        "colab_type": "text"
      },
      "source": [
        "We see that our model fares quite well with a step size $h=0.0\n",
        "1$, as it only deviates from the analytical solution by 24 bacteria cells, or 2.4 %. By choosing a smaller $h$, we could increase the precision of our result. For instance, choosing $h=0.001$, we would only get a deviation of 2.4 bacteria cells, or 0.24 %.\n",
        "\n",
        "The reader might wonder why we would want to use Euler's method in this case, as we have a perfectly fine analytical solution. This differential equation has an analytical solution, however, this is not always the case. We only chose this example because can compare our numerical results to the correct answer, and thus validate our procedure. Changing our initial equation for the growth, equation $(5)$, to something called the logistic growth model on the form\n",
        "\n",
        "\\begin{equation}\n",
        "\\frac{dy}{dt} = ky(1 - \\frac{y}{m}),\n",
        "\\tag{6}\n",
        "\\end{equation}\n",
        "\n",
        "where $m$ is a constant, we cannot solve this equation analytically. However, we can still use Euler's method!"
      ]
    },
    {
      "cell_type": "code",
      "metadata": {
        "id": "1Lfe--fj5KRt",
        "colab_type": "code",
        "colab": {
          "base_uri": "https://localhost:8080/",
          "height": 298
        },
        "outputId": "6af2cc33-c752-4d90-91ce-9cfe6230ec7d"
      },
      "source": [
        "def r(y):\n",
        "    \"\"\"Defines the right hand side of our new differential equation. In our case of \n",
        "    bacterial growth, h(y) = k*y*(1-y/m). In this case, we set k = 1, and m = 100.\n",
        "    \n",
        "    Parameters:\n",
        "            y: Numerical approximation of y at time t\n",
        "        Returns:\n",
        "            growth_rate: The current growth rate for a population with population = y\n",
        "    \"\"\"\n",
        "    k = 1\n",
        "    m = 100\n",
        "    growth_rate = k * y * (1 - y / m)\n",
        "    return growth_rate\n",
        "\n",
        "\n",
        "# Input parameters\n",
        "\n",
        "y_0 = 1 # Initial population size\n",
        "h = 0.01 # Step size\n",
        "t_0 = 0 # We define the time at our initial observation as 0\n",
        "t_N = 10 # 10 days after our initial observation of a single bacteria\n",
        "\n",
        "\n",
        "# Calculating results from Euler and plotting them\n",
        "y_list, t_list = full_Euler(h, r, y_0, t_0, t_N)\n",
        "plt.plot(t_list, y_list)\n",
        "\n",
        "\n",
        "# Making the plot look nice\n",
        "plt.title(\"The population size of a bacterial colony as a function of time using the logistic growth model\")\n",
        "plt.xlabel(r'$t$ [days]')\n",
        "plt.ylabel(r'$y$ [# bacteria]')\n",
        "plt.show()"
      ],
      "execution_count": null,
      "outputs": [
        {
          "output_type": "display_data",
          "data": {
            "image/png": "[encoded data removed]",
            "text/plain": [
              "<Figure size 432x288 with 1 Axes>"
            ]
          },
          "metadata": {
            "tags": [],
            "needs_background": "light"
          }
        }
      ]
    },
    {
      "cell_type": "markdown",
      "metadata": {
        "id": "yYuTx6735KRv",
        "colab_type": "text"
      },
      "source": [
        "This plot illustrates perfectly the essence of Euler's method, and numerical solutions of ODEs in general. Even though we do not have an analytical solution to validate our results against, we can still extract important information from our numerical results and validate the results through physical arguments. The constant $m$ in $(6)$ is called the carrying capacity, the name manifests itself in our plot, as we observe that the population increases exponentially the first five days, but then it seems to converge towards 100 bacteria after 8 days. Physically, a possible explanation could be that our system only has the resources to maintain a population of 100 bacteria, and that additional bacteria would die.\n",
        "\n",
        "\n",
        "\n",
        "## Conclusion\n",
        "Even though Euler's method is very simple to implement, it is still a powerful tool for solving ODEs. In this notebook we have used Euler's method to solve the differential equation governing population growth in a bacterial colony, but the implementation can also be used to solve any ODE with no explicit time dependence. "
      ]
    }
  ]
}